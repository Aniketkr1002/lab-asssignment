{
 "cells": [
  {
   "cell_type": "code",
   "execution_count": null,
   "metadata": {},
   "outputs": [],
   "source": []
  },
  {
   "cell_type": "code",
   "execution_count": null,
   "metadata": {},
   "outputs": [],
   "source": [
    "class Employee:\n",
    "    def _init_(self, emp_id, name, age, salary):\n",
    "        self.emp_id = emp_id\n",
    "        self.name = name\n",
    "        self.age = age\n",
    "        self.salary = salary\n",
    "\n",
    "def sort_employee_data(employees, key):\n",
    "    if key == 1:\n",
    "        employees.sort(key=lambda emp: emp.age)\n",
    "    elif key == 2:\n",
    "        employees.sort(key=lambda emp: emp.name)\n",
    "    elif key == 3:\n",
    "        employees.sort(key=lambda emp: emp.salary)\n",
    "    else:\n",
    "        print(\"Invalid sorting parameter\")\n",
    "        return\n",
    "\n",
    "    return employees\n",
    "\n",
    "def print_employee_data(employees):\n",
    "    for employee in employees:\n",
    "        print(f\"Employee ID: {employee.emp_id}, Name: {employee.name}, Age: {employee.age}, Salary: {employee.salary}\")\n",
    "\n",
    "if _name_ == \"_main_\":\n",
    "    employees = [\n",
    "        Employee(\"161E90\", \"Raman\", 41, 56000),\n",
    "        Employee(\"161F91\", \"Himadri\", 38, 67500),\n",
    "        Employee(\"161F99\", \"Jaya\", 51, 82100),\n",
    "        Employee(\"171E20\", \"Tejas\", 30, 55000),\n",
    "        Employee(\"171G30\", \"Ajay\", 45, 44000),\n",
    "    ]\n",
    "\n",
    "    while True:\n",
    "        print(\"\\nOptions for Sorting:\")\n",
    "        print(\"1. Sort by Age\")\n",
    "        print(\"2. Sort by Name\")\n",
    "        print(\"3. Sort by Salary\")\n",
    "        print(\"4. Quit\")\n",
    "\n",
    "        choice = int(input(\"Enter your choice: \"))\n",
    "\n",
    "        if choice == 4:\n",
    "            break\n",
    "\n",
    "        sorted_employees = sort_employee_data(employees.copy(), choice)\n",
    "        if sorted_employees:\n",
    "            print(\"\\nSorted Employee Data:\")\n",
    "            print_employee_data(sorted_employees)"
   ]
  }
 ],
 "metadata": {
  "language_info": {
   "name": "python"
  },
  "orig_nbformat": 4
 },
 "nbformat": 4,
 "nbformat_minor": 2
}
